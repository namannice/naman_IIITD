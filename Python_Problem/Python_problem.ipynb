{
 "cells": [
  {
   "cell_type": "markdown",
   "metadata": {},
   "source": [
    "# NAMAN GOEL MIDAS IIITD SUBMISSION"
   ]
  },
  {
   "cell_type": "markdown",
   "metadata": {
    "colab_type": "text",
    "id": "tDM3xiKA5IxL"
   },
   "source": [
    "## Installing Dependencies"
   ]
  },
  {
   "cell_type": "code",
   "execution_count": null,
   "metadata": {
    "colab": {},
    "colab_type": "code",
    "id": "RVnIDyk1zHSm"
   },
   "outputs": [],
   "source": [
    "import numpy as np\n",
    "import pandas as pd\n",
    "import pickle\n",
    "import tweepy\n",
    "from tweepy import OAuthHandler\n",
    "import json\n",
    "import jsonlines"
   ]
  },
  {
   "cell_type": "markdown",
   "metadata": {
    "colab_type": "text",
    "id": "H9TTasbx5QDK"
   },
   "source": [
    "## Twitter Access Tokens"
   ]
  },
  {
   "cell_type": "code",
   "execution_count": null,
   "metadata": {
    "colab": {},
    "colab_type": "code",
    "id": "zXPTyRYAzKbh"
   },
   "outputs": [],
   "source": [
    "consumer_key = ''\n",
    "consumer_secret = ''\n",
    "access_token = ''\n",
    "access_secret = ''"
   ]
  },
  {
   "cell_type": "markdown",
   "metadata": {},
   "source": [
    "## Authentication Of Tokens And API Object Creation"
   ]
  },
  {
   "cell_type": "code",
   "execution_count": null,
   "metadata": {
    "colab": {},
    "colab_type": "code",
    "id": "aAzlCbcszNr8"
   },
   "outputs": [],
   "source": [
    "auth = tweepy.OAuthHandler(consumer_key, consumer_secret)\n",
    "auth.set_access_token(access_token, access_secret)\n",
    "api = tweepy.API(auth)"
   ]
  },
  {
   "cell_type": "markdown",
   "metadata": {},
   "source": [
    "## Getting Tweets By midasIIITD"
   ]
  },
  {
   "cell_type": "code",
   "execution_count": null,
   "metadata": {
    "colab": {},
    "colab_type": "code",
    "id": "TE-xUHMMzxH6"
   },
   "outputs": [],
   "source": [
    "name = \"midasIIITD\"\n",
    "\n",
    "tweetCount = 344\n",
    "\n",
    "results = api.user_timeline(id=name, count=tweetCount)"
   ]
  },
  {
   "cell_type": "markdown",
   "metadata": {},
   "source": [
    "## Creating JSONline File"
   ]
  },
  {
   "cell_type": "code",
   "execution_count": null,
   "metadata": {
    "colab": {},
    "colab_type": "code",
    "id": "PaU634y2z5xd"
   },
   "outputs": [],
   "source": [
    "with jsonlines.open(\"midas_twitter_naman.jsonl\",mode='w') as writer:\n",
    "    for tweet in results:\n",
    "        writer.write(tweet._json)"
   ]
  },
  {
   "cell_type": "markdown",
   "metadata": {},
   "source": [
    "## Function To Check Images Availability "
   ]
  },
  {
   "cell_type": "markdown",
   "metadata": {},
   "source": [
    "### Code is inclusive of \"Exception Handling\""
   ]
  },
  {
   "cell_type": "code",
   "execution_count": null,
   "metadata": {
    "colab": {},
    "colab_type": "code",
    "id": "32ZIf8-A0AWA"
   },
   "outputs": [],
   "source": [
    "def check_images(entity):\n",
    "    try:\n",
    "        media = entity['media']\n",
    "        return(len(media))\n",
    "    except KeyError:\n",
    "        return 'None'"
   ]
  },
  {
   "cell_type": "markdown",
   "metadata": {},
   "source": [
    "## Accessing JSONline file for data extaction"
   ]
  },
  {
   "cell_type": "code",
   "execution_count": null,
   "metadata": {
    "colab": {},
    "colab_type": "code",
    "id": "GBlbagQS0LoH"
   },
   "outputs": [],
   "source": [
    "data=[]\n",
    "\n",
    "with jsonlines.open(\"midas_twitter.jsonl\",mode='r') as reader:\n",
    "    for item in reader.iter():\n",
    "        temp=[]\n",
    "        temp.append(item['text'])\n",
    "        temp.append(item['created_at'][:16])\n",
    "        temp.append(item['favorite_count'])\n",
    "        temp.append(item['retweet_count'])\n",
    "\n",
    "        image_count = check_images(item['entities'])##function call for image check\n",
    "        temp.append(image_count)\n",
    "        data.append(temp)\n",
    "        \n",
    "df=pd.DataFrame(data,columns=['Text','Date and time','Number of likes','Nmber of retweets','Number of images'])"
   ]
  },
  {
   "cell_type": "markdown",
   "metadata": {},
   "source": [
    "## Data Frame Look"
   ]
  },
  {
   "cell_type": "code",
   "execution_count": null,
   "metadata": {
    "colab": {
     "base_uri": "https://localhost:8080/",
     "height": 1599
    },
    "colab_type": "code",
    "id": "DiWccp381SCU",
    "outputId": "9410e737-45ec-404c-cab4-178b03d3380c"
   },
   "outputs": [],
   "source": [
    "df.head()"
   ]
  },
  {
   "cell_type": "markdown",
   "metadata": {},
   "source": [
    "## CSV format data saving"
   ]
  },
  {
   "cell_type": "code",
   "execution_count": null,
   "metadata": {
    "colab": {},
    "colab_type": "code",
    "id": "Ox_UPJRr1WAJ"
   },
   "outputs": [],
   "source": [
    "df.to_csv('Midas_data_naman.csv')"
   ]
  }
 ],
 "metadata": {
  "colab": {
   "name": "Python_problem",
   "provenance": [],
   "version": "0.3.2"
  },
  "kernelspec": {
   "display_name": "Python 3",
   "language": "python",
   "name": "python3"
  },
  "language_info": {
   "codemirror_mode": {
    "name": "ipython",
    "version": 3
   },
   "file_extension": ".py",
   "mimetype": "text/x-python",
   "name": "python",
   "nbconvert_exporter": "python",
   "pygments_lexer": "ipython3",
   "version": "3.7.3"
  }
 },
 "nbformat": 4,
 "nbformat_minor": 1
}
